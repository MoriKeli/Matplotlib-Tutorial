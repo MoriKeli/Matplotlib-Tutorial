{
 "cells": [
  {
   "cell_type": "markdown",
   "id": "929a5a71-e1fa-4043-a27b-ee86afcd5e27",
   "metadata": {},
   "source": [
    "#### Lesson 9: Figure Resizing\n",
    "\n",
    "\n",
    "##### Saving graphs as an image file\n"
   ]
  },
  {
   "cell_type": "code",
   "execution_count": 1,
   "id": "46e8e088-f15c-417e-a519-b81a86a3c850",
   "metadata": {},
   "outputs": [],
   "source": [
    "import matplotlib.pyplot as plt\n",
    "import numpy as np\n",
    "%matplotlib inline"
   ]
  },
  {
   "cell_type": "code",
   "execution_count": 11,
   "id": "ec8c22a9-d454-4507-ade1-7861603884cd",
   "metadata": {},
   "outputs": [
    {
     "data": {
      "image/png": "[encoded data removed]",
      "text/plain": [
       "<Figure size 360x216 with 1 Axes>"
      ]
     },
     "metadata": {
      "needs_background": "light"
     },
     "output_type": "display_data"
    }
   ],
   "source": [
    "x = [1, 2, 3, 4, 5, 6, 7, 8, 9, 10]\n",
    "y = [10, 20, 30, 40, 50, 60, 70 , 80, 90, 100]\n",
    "\n",
    "\n",
    "# resize graph\n",
    "plt.figure(figsize=(5, 3))   # figsize(w, h) dimensions in inches, i.e. 5 in. by 3 in.\n",
    "\n",
    "\n",
    "# Quicksand is only compatible with Linux. For Windows, use Times New Roman, Comic Sans MS, etc.\n",
    "plt.title('Extra polated Graph', fontdict={'fontname': 'Quicksand', 'fontsize': 20})\n",
    "plt.xlabel('x-axis', fontdict={'fontname': 'Cantarell', 'fontsize': 14})\n",
    "plt.ylabel('y-axis', fontdict={'fontname': 'Liberation Sans', 'fontsize': 14})\n",
    "\n",
    "\n",
    "# plot first line\n",
    "plt.plot(x, y, label='line1', marker='x', color='red')\n",
    "\n",
    "# plot 2nd line\n",
    "x2 = np.arange(1, 12.5, 0.5)\n",
    "\n",
    "# Extrapolate graph using list slicing.\n",
    "plt.plot(x2[:19], x2[:19]**2, label='line2', marker='', color='blue')  # plot first 19 items in line 2.\n",
    "plt.plot(x2[10:], x2[10:]**2, 'b--')  # plot items from index 10 to the last items. If the last item is reached, set linestyle to dashed.\n",
    "\n",
    "\n",
    "# legend\n",
    "plt.legend()\n",
    "\n",
    "\n",
    "plt.savefig('extrapolated-graph.png', dpi=100)\n"
   ]
  },
  {
   "cell_type": "markdown",
   "id": "df939a87-2ebd-4ef8-9a42-29ad2429cc0a",
   "metadata": {},
   "source": [
    "#### Remove plt.show() func otherwise the graph will not be saved.\n",
    "#### plt.savefig() func accepts keyword dpi. Since figsize() is figsize=(5, 3), saved image will be 500x300p.\n",
    "\n",
    "\n",
    "#### image will be saved in the current directory (i.e. /Lesson9 - .../)\n",
    "#### To save image in a different directory include path of the folder.\n",
    "#### You can rename the image.\n",
    "#### Supported image formats include: .jpg, .jpeg, .png, .gif, .svg, etc.\n",
    "\n",
    "\n",
    "### NB: .pdf is also supported.\n"
   ]
  },
  {
   "cell_type": "code",
   "execution_count": null,
   "id": "a5c8aab5-bb70-4757-88e0-0b2ab24a84b0",
   "metadata": {},
   "outputs": [],
   "source": []
  }
 ],
 "metadata": {
  "kernelspec": {
   "display_name": "Python 3 (ipykernel)",
   "language": "python",
   "name": "python3"
  },
  "language_info": {
   "codemirror_mode": {
    "name": "ipython",
    "version": 3
   },
   "file_extension": ".py",
   "mimetype": "text/x-python",
   "name": "python",
   "nbconvert_exporter": "python",
   "pygments_lexer": "ipython3",
   "version": "3.9.2"
  }
 },
 "nbformat": 4,
 "nbformat_minor": 5
}
