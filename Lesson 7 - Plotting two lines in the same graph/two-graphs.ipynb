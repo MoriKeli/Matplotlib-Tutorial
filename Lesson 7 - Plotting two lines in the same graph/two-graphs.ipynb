{
 "cells": [
  {
   "cell_type": "markdown",
   "id": "2c7ed25b-f699-4870-ab59-ad91af3c5c33",
   "metadata": {},
   "source": [
    "### Lesson 7: Plotting two lines in the same graph\n",
    "\n",
    "##### In the previous example,  we have drawn only one line on a graph. Here we will draw two, to draw the second line, install numpy (if you are using Windows OS) by using Python Package manager.\n",
    "\n",
    "\n",
    "##### Chack if numpy is installed.\n",
    "###### 1. Open cmd or your terminal (Mac or Linux).\n",
    "###### 2. Type \"pip show numpy\" and press Enter. NB: Do not include the double quotes.\n",
    "###### 3. If its installed, the module info. will be displayed else a warning message will be displayed; \"WARNING:           Package(s) not found: numpy\"\n",
    "\n",
    "##### How to install Numpy\n",
    "###### 1. Open cmd or your terminal(Mac or Linux)\n",
    "###### 2. Type \"pip install numpy\" and press Enter. NB: Do not include the double quotes.\n",
    "###### 3. Once the installation is completed, import it as shown below.\n"
   ]
  },
  {
   "cell_type": "code",
   "execution_count": 2,
   "id": "0f9d7be4-5666-475d-b700-20b837ff49cf",
   "metadata": {},
   "outputs": [],
   "source": [
    "# Learning Matplot using Jupyter Notebook\n",
    "import matplotlib.pyplot as plt\n",
    "import numpy as np\n",
    "%matplotlib inline"
   ]
  },
  {
   "cell_type": "code",
   "execution_count": 3,
   "id": "076d549e-8071-4df4-b625-fb79f2e19e57",
   "metadata": {},
   "outputs": [],
   "source": [
    "# graph labels and values\n",
    "labels, values = ['A', 'B', 'C', 'D', 'E', 'F', 'G', 'H', 'I', 'J', 'K', 'L', 'M', 'N', 'O'], [1, 2, 3, 4, 5, 6, 7, 8, 9, 10, 11, 12, 13, 14, 15]"
   ]
  },
  {
   "cell_type": "code",
   "execution_count": 4,
   "id": "5c67e92d-e94e-4682-8f82-f8c0173a22c3",
   "metadata": {},
   "outputs": [
    {
     "name": "stderr",
     "output_type": "stream",
     "text": [
      "findfont: Font family ['Comic Sans MS'] not found. Falling back to DejaVu Sans.\n",
      "findfont: Font family ['Times New Roman'] not found. Falling back to DejaVu Sans.\n"
     ]
    },
    {
     "data": {
      "image/png": "[encoded data removed]",
      "text/plain": [
       "<Figure size 432x288 with 1 Axes>"
      ]
     },
     "metadata": {
      "needs_background": "light"
     },
     "output_type": "display_data"
    }
   ],
   "source": [
    "# plotting basic graph\n",
    "# add font-family and font-size. Use fontdict={}\n",
    "\n",
    "plt.title('Basic Graph', fontdict={'fontname': 'Comic Sans MS', 'fontsize': 20})\n",
    "plt.xlabel('Values', fontdict={'fontname': 'Times New Roman'})\n",
    "plt.ylabel('Labels')\n",
    "\n",
    "# ticks are used to change values on the labels of the x & y axes.\n",
    "# plt.xticks([)\n",
    "# plt.yticks([0, 2, 4, 6, 8, 10, 12, 14, 16])\n",
    "\n",
    "# Compare this graph with the graph in graph-labels.ipyn\n",
    "# Change values of x-axis and use plt.xticks()\n",
    "\n",
    "\n",
    "plt.plot(labels, values, label='Line 1', color='red', marker='x', linewidth=1, linestyle='--')\n",
    "\n",
    "\n",
    "# plotting a 2nd line in the graph\n",
    "# Import numpy module for this to work.\n",
    "x2 = np.arange(0, 15.5, 0.5)\n",
    "\n",
    "\n",
    "plt.plot(x2[:9], x2[:9]**2, 'bo-', label='Line2')\n",
    "\n",
    "plt.legend()\n",
    "plt.show()"
   ]
  },
  {
   "cell_type": "code",
   "execution_count": null,
   "id": "4e7f7084-ffc4-4fd1-bd41-67f820433668",
   "metadata": {},
   "outputs": [],
   "source": []
  }
 ],
 "metadata": {
  "kernelspec": {
   "display_name": "Python 3 (ipykernel)",
   "language": "python",
   "name": "python3"
  },
  "language_info": {
   "codemirror_mode": {
    "name": "ipython",
    "version": 3
   },
   "file_extension": ".py",
   "mimetype": "text/x-python",
   "name": "python",
   "nbconvert_exporter": "python",
   "pygments_lexer": "ipython3",
   "version": "3.9.2"
  }
 },
 "nbformat": 4,
 "nbformat_minor": 5
}
