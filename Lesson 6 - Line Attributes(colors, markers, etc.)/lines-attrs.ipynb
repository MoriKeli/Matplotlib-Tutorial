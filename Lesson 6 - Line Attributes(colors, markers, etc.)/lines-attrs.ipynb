{
 "cells": [
  {
   "cell_type": "markdown",
   "id": "b5f6ee98-9938-4fae-be23-2893ca86fac9",
   "metadata": {},
   "source": [
    "### Lesson 6: Line Attributes\n",
    "#### These attributes include line-color, marker, line-width, etc.\n"
   ]
  },
  {
   "cell_type": "code",
   "execution_count": 2,
   "id": "0e92c807-a646-449e-b3ad-a31abdec5170",
   "metadata": {},
   "outputs": [],
   "source": [
    "# Learning Matplot using Jupyter Notebook\n",
    "import matplotlib.pyplot as plt\n",
    "%matplotlib inline"
   ]
  },
  {
   "cell_type": "code",
   "execution_count": 3,
   "id": "22779345-239c-4c99-ae83-9a365b49e5c4",
   "metadata": {},
   "outputs": [],
   "source": [
    "# graph labels and values\n",
    "labels, values = ['A', 'B', 'C', 'D', 'E', 'F', 'G', 'H', 'I', 'J', 'K', 'L', 'M', 'N', 'O'], [1, 2, 3, 4, 5, 6, 7, 8, 9, 10, 11, 12, 13, 14, 15]"
   ]
  },
  {
   "cell_type": "markdown",
   "id": "4c600cb3-2392-4f71-8d7f-fb1167ccf8d0",
   "metadata": {},
   "source": [
    "#### To change line color add color='<color, e.g. red, blue, green, etc.>' in the plot() function; after label=''\n",
    "#### To add a marker add marker='<marker, e,g, x, o, X, d, +, etc.\\>'\n",
    "\n",
    "#### Adjust line thickness with linewidth=' (value) '. (value) can be integer or float values., e.g. 1, 2, 3.5, 5.5, 10 ,0.5, etc.\n",
    "#### Change linestyle with linestyle='<style, e.g. --, -, dashed, dasheddot, etc>'. For example, linestyle='dashed' or linestyle='--'.\n",
    "\n",
    "#### Shorthand Format Notation\n",
    "#### Instead of using plt.plot(x, y, label='', color='', marker='', linewidth='') you can use:\n",
    "####     fmt = ['color']['marker']['line'] e.g.\n",
    "\n",
    "####     plt.plot(x, y, 'rx--', label='Line 1')  r rep. red, x rep. marker, -- rep. linestyle\n",
    "\n"
   ]
  },
  {
   "cell_type": "code",
   "execution_count": 4,
   "id": "16c40bbb-48a8-4449-8c6f-91a1170b0f05",
   "metadata": {},
   "outputs": [
    {
     "name": "stderr",
     "output_type": "stream",
     "text": [
      "findfont: Font family ['Comic Sans MS'] not found. Falling back to DejaVu Sans.\n",
      "findfont: Font family ['Times New Roman'] not found. Falling back to DejaVu Sans.\n"
     ]
    },
    {
     "data": {
      "image/png": "[encoded data removed]",
      "text/plain": [
       "<Figure size 432x288 with 1 Axes>"
      ]
     },
     "metadata": {
      "needs_background": "light"
     },
     "output_type": "display_data"
    }
   ],
   "source": [
    "# plotting basic graph\n",
    "# add font-family and font-size. Use fontdict={}\n",
    "\n",
    "plt.title('Basic Graph', fontdict={'fontname': 'Comic Sans MS', 'fontsize': 20})\n",
    "plt.xlabel('Values', fontdict={'fontname': 'Times New Roman'})\n",
    "plt.ylabel('Labels')\n",
    "\n",
    "# ticks are used to change values on the labels of the x & y axes.\n",
    "plt.yticks([0, 2, 4, 6, 8, 10, 12, 14, 16])\n",
    "\n",
    "# Compare this graph with the graph in graph-labels.ipyn\n",
    "# Change values of x-axis and use plt.xticks()\n",
    "\n",
    "\n",
    "plt.plot(labels, values, label='Line 1', color='red', marker='x', linewidth=1, linestyle='--')\n",
    "\n",
    "plt.legend()\n",
    "\n",
    "plt.show()"
   ]
  },
  {
   "cell_type": "code",
   "execution_count": null,
   "id": "cab1e40e-5b1c-4325-bde8-3c52b84afdbc",
   "metadata": {},
   "outputs": [],
   "source": []
  }
 ],
 "metadata": {
  "kernelspec": {
   "display_name": "Python 3 (ipykernel)",
   "language": "python",
   "name": "python3"
  },
  "language_info": {
   "codemirror_mode": {
    "name": "ipython",
    "version": 3
   },
   "file_extension": ".py",
   "mimetype": "text/x-python",
   "name": "python",
   "nbconvert_exporter": "python",
   "pygments_lexer": "ipython3",
   "version": "3.9.2"
  }
 },
 "nbformat": 4,
 "nbformat_minor": 5
}
