{
 "cells": [
  {
   "cell_type": "markdown",
   "id": "8d1a0299-07de-4ae7-b46a-c148395253cf",
   "metadata": {},
   "source": [
    "### Lesson 5: Legend\n",
    "\n",
    "#### A legend is an explanation of a map or a diagram in a book. On maps we call it a key while in graphs, it is a legend. If you are given a map with red lines crossing each other, smaller blue or white dots, big yellow dots, etc. you will not understand what each of these represents unless a key is drawn on the map.\n",
    "\n",
    "#### We use legends to help one understand our chart/graphs. For example, in a graph with more than one line, we will not be able to understand what each line represents unless we provide a legend. "
   ]
  },
  {
   "cell_type": "code",
   "execution_count": 3,
   "id": "e142edea-80bb-41dc-9196-3d8515d3b709",
   "metadata": {},
   "outputs": [],
   "source": [
    "import matplotlib.pyplot as plt\n",
    "%matplotlib inline"
   ]
  },
  {
   "cell_type": "code",
   "execution_count": 4,
   "id": "1d871654-7e27-41fb-892b-f1e86121812c",
   "metadata": {},
   "outputs": [],
   "source": [
    "# graph labels and values\n",
    "labels, values = ['A', 'B', 'C', 'D', 'E', 'F', 'G', 'H', 'I', 'J', 'K', 'L', 'M', 'N', 'O'], [1, 2, 3, 4, 5, 6, 7, 8, 9, 10, 11, 12, 13, 14, 15]"
   ]
  },
  {
   "cell_type": "code",
   "execution_count": 9,
   "id": "ffd81c65-bc37-48fd-92c6-fd726945d700",
   "metadata": {},
   "outputs": [
    {
     "data": {
      "image/png": "[encoded data removed]",
      "text/plain": [
       "<Figure size 432x288 with 1 Axes>"
      ]
     },
     "metadata": {
      "needs_background": "light"
     },
     "output_type": "display_data"
    }
   ],
   "source": [
    "# plotting basic graph\n",
    "\n",
    "plt.title('Basic Graph', fontdict={'fontname': 'Comic Sans MS', 'fontsize': 20})\n",
    "plt.xlabel('Values', fontdict={'fontname': 'Times New Roman'})\n",
    "plt.ylabel('Labels')\n",
    "\n",
    "# ticks are used to change values on the labels of the x & y axes.\n",
    "plt.yticks([0, 2, 4, 6, 8, 10, 12, 14, 16])\n",
    "\n",
    "# Compare this graph with the graph in graph-labels.ipyn\n",
    "# Change values of x-axis and use plt.xticks()\n",
    "\n",
    "plt.plot(labels, values, label='Line 1')\n",
    "\n",
    "# Legend.\n",
    "plt.legend()\n",
    "\n",
    "\n",
    "plt.show()"
   ]
  },
  {
   "cell_type": "markdown",
   "id": "77d7d24f-dfa3-4516-8480-3ecf110b6cc9",
   "metadata": {},
   "source": [
    "#### NB: For legend to be displayed, the label=' <label-name/> ' must be included in the plt.plot() func and the plt.legend() func must come after plt.plot() function.\n"
   ]
  },
  {
   "cell_type": "code",
   "execution_count": null,
   "id": "893439f8-e437-4a6e-b38e-61980e42fee7",
   "metadata": {},
   "outputs": [],
   "source": []
  }
 ],
 "metadata": {
  "kernelspec": {
   "display_name": "Python 3 (ipykernel)",
   "language": "python",
   "name": "python3"
  },
  "language_info": {
   "codemirror_mode": {
    "name": "ipython",
    "version": 3
   },
   "file_extension": ".py",
   "mimetype": "text/x-python",
   "name": "python",
   "nbconvert_exporter": "python",
   "pygments_lexer": "ipython3",
   "version": "3.9.2"
  }
 },
 "nbformat": 4,
 "nbformat_minor": 5
}
