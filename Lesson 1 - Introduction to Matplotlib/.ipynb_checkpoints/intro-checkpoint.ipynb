{
 "cells": [
  {
   "cell_type": "markdown",
   "id": "ce58ecbe-921d-4464-b495-38c12064abd6",
   "metadata": {},
   "source": [
    "# Introduction\n",
    "###### Learning Matplotlib using Jupyter notebook\n",
    "\n",
    "##### Jupyter Notebook Installation.\n",
    "##### NB: if you are using Windows OS install Python Interpreter by clicking this https://www.python.org and download the latest version of Python (version 3.9 as of this writing). If you have a Mac or Linux, you may already have Python on your machine, though it may be an older version (If it is version 2.8 or earlier, I suggest you upgrade)."
   ]
  },
  {
   "cell_type": "code",
   "execution_count": 3,
   "id": "21e8858a-a355-4b54-ba8e-cb8f21f36420",
   "metadata": {},
   "outputs": [],
   "source": [
    "import matplotlib.pyplot as plt\n",
    "%matplotlib inline"
   ]
  },
  {
   "cell_type": "markdown",
   "id": "e0cad1f5-a470-46c1-a1f4-f9e8a638a7c3",
   "metadata": {},
   "source": [
    "#### Python gives us the power to rename modules. This is mostly applied in modules with long names, e.g. matplotlib, tensorflow, speech_recognition, etc. To rename a module we use the \"as\" keyword. In this entire course, we will rename matplotlib to plt.\n",
    "\n",
    "#### NB: Ignore line -> \" %matplotlib inline \" if you are not using Jupyter notebook or Anaconda.\n",
    "##### \" %matplotlib inline \" displays the chart in this notebook. It only works on Jupyter Notebook.\n",
    "##### If you are using an IDE, write the same codes and run you program. A new Window will pop up displaying your chart. "
   ]
  },
  {
   "cell_type": "code",
   "execution_count": 4,
   "id": "45b5526e-90c4-44f0-8f63-04c0a90543d7",
   "metadata": {},
   "outputs": [
    {
     "data": {
      "image/png": "[encoded data removed]",
      "text/plain": [
       "<Figure size 432x288 with 1 Axes>"
      ]
     },
     "metadata": {
      "needs_background": "light"
     },
     "output_type": "display_data"
    }
   ],
   "source": [
    "# label and values of a basic graph\n",
    "labels, values = ['A', 'B', 'C', 'D', 'E', 'F', 'G', 'H', 'I', 'J', 'K', 'L', 'M', 'N', 'O'], [1, 2, 3, 4, 5, 6, 7, 8, 9, 10, 11, 12, 13, 14, 15]\n",
    "\n",
    "# plotting graph\n",
    "plt.plot(labels, values)\n",
    "plt.show()"
   ]
  },
  {
   "cell_type": "markdown",
   "id": "c5bda685-9ebb-44b6-9c06-5b058fa1c095",
   "metadata": {},
   "source": [
    "###### Press Shift+Enter to display graph\n",
    "\n",
    "###### NB: You can save the graph as an image file in the current working directory. i.e. plt.savefig(\"image-name\".png, dpi=300). Ref. lesson 9 for more details."
   ]
  },
  {
   "cell_type": "code",
   "execution_count": null,
   "id": "bc163e94-6ee4-47c3-8bb1-6e45fe5d993a",
   "metadata": {},
   "outputs": [],
   "source": []
  }
 ],
 "metadata": {
  "kernelspec": {
   "display_name": "Python 3 (ipykernel)",
   "language": "python",
   "name": "python3"
  },
  "language_info": {
   "codemirror_mode": {
    "name": "ipython",
    "version": 3
   },
   "file_extension": ".py",
   "mimetype": "text/x-python",
   "name": "python",
   "nbconvert_exporter": "python",
   "pygments_lexer": "ipython3",
   "version": "3.9.2"
  }
 },
 "nbformat": 4,
 "nbformat_minor": 5
}
