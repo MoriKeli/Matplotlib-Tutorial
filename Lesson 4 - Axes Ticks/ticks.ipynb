{
 "cells": [
  {
   "cell_type": "markdown",
   "id": "11db47a1-e6b4-4385-9ec3-e09a7235f5c3",
   "metadata": {},
   "source": [
    "## Lesson 4: Ticks\n",
    "\n",
    "#### Sometimes we have to deal with graphs that have huge values on both the x and y axes. For example, imagine you have a graph containing values from 0 upto 1000 on both axes and you have to plot it on an A4 sheet. There to ways to do this:\n",
    "##### 1. Attach 3 x 6 (i.e. 3 sheets wide and 6 sheets long) with a tape and plot your graph.\n",
    "##### 2. Label both axes with values of 100 units intervals. For example, on both x-axis and y-axis (instead of using 0, 1, 2, 3, 4, 5, 6, 7, 8, 9, .... 1000, we use 0, 100, 200, 300, 400, 500, ... 1000).\n",
    "\n",
    "#### To save space on our sheet and the time required to plot this graph, the former (i.e. option 2 is more suitable). We can also achieve this in Matplotlib using ticks() function."
   ]
  },
  {
   "cell_type": "code",
   "execution_count": 2,
   "id": "42a7fdc6-dfe8-489e-bb82-e8af5ce23e91",
   "metadata": {},
   "outputs": [],
   "source": [
    "# Learning Matplot using Jupyter Notebook\n",
    "import matplotlib.pyplot as plt\n",
    "%matplotlib inline"
   ]
  },
  {
   "cell_type": "code",
   "execution_count": 4,
   "id": "053ca7bd-b0a1-41b2-a779-f07ccb2b63c1",
   "metadata": {},
   "outputs": [],
   "source": [
    "# graph labels and values\n",
    "labels, values = ['A', 'B', 'C', 'D', 'E', 'F', 'G', 'H', 'I', 'J', 'K', 'L', 'M', 'N', 'O'], [1, 2, 3, 4, 5, 6, 7, 8, 9, 10, 11, 12, 13, 14, 15]"
   ]
  },
  {
   "cell_type": "markdown",
   "id": "ab383281-56b9-4ff9-964e-e9468294a0d7",
   "metadata": {},
   "source": [
    "#### To rescale our axes, in this example the y-axis, we will use plt.yticks() function. We have to put our values in a list. See the lines of code below.\n"
   ]
  },
  {
   "cell_type": "code",
   "execution_count": 5,
   "id": "c01f1caf-e1c5-4010-acfb-b6aff86ac47b",
   "metadata": {},
   "outputs": [
    {
     "name": "stderr",
     "output_type": "stream",
     "text": [
      "findfont: Font family ['Comic Sans MS'] not found. Falling back to DejaVu Sans.\n",
      "findfont: Font family ['Times New Roman'] not found. Falling back to DejaVu Sans.\n"
     ]
    },
    {
     "data": {
      "image/png": "[encoded data removed]",
      "text/plain": [
       "<Figure size 432x288 with 1 Axes>"
      ]
     },
     "metadata": {
      "needs_background": "light"
     },
     "output_type": "display_data"
    }
   ],
   "source": [
    "# plotting basic graph\n",
    "# add font-family and font-size. Use fontdict={}\n",
    "\n",
    "plt.title('Basic Graph', fontdict={'fontname': 'Comic Sans MS', 'fontsize': 20})\n",
    "plt.xlabel('Values', fontdict={'fontname': 'Times New Roman'})\n",
    "plt.ylabel('Labels')\n",
    "\n",
    "\n",
    "plt.yticks([0, 2, 4, 6, 8, 10, 12, 14, 16])\n",
    "\n",
    "# Compare this graph with the graph in graph-labels.ipynb\n",
    "\n",
    "# Change values of x-axis and use plt.xticks()\n",
    "\n",
    "\n",
    "plt.plot(labels, values)\n",
    "plt.show()"
   ]
  }
 ],
 "metadata": {
  "kernelspec": {
   "display_name": "Python 3 (ipykernel)",
   "language": "python",
   "name": "python3"
  },
  "language_info": {
   "codemirror_mode": {
    "name": "ipython",
    "version": 3
   },
   "file_extension": ".py",
   "mimetype": "text/x-python",
   "name": "python",
   "nbconvert_exporter": "python",
   "pygments_lexer": "ipython3",
   "version": "3.9.2"
  }
 },
 "nbformat": 4,
 "nbformat_minor": 5
}
