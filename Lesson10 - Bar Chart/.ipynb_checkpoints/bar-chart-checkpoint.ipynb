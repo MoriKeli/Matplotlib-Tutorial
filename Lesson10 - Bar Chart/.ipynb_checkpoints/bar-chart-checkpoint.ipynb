{
 "cells": [
  {
   "cell_type": "markdown",
   "id": "e476b25a-779b-4c9e-96e8-133f59baf6ec",
   "metadata": {},
   "source": [
    "### Lesson 10 - Bar Chart\n",
    "\n",
    "#### In this example,  we will plot a simple bar chart."
   ]
  },
  {
   "cell_type": "code",
   "execution_count": 2,
   "id": "1797b5e1-cbc6-496c-8429-9fec89996145",
   "metadata": {},
   "outputs": [],
   "source": [
    "# Plotting bar chart\n",
    "import matplotlib.pyplot as plt\n",
    "import numpy as np\n",
    "%matplotlib inline"
   ]
  },
  {
   "cell_type": "code",
   "execution_count": 8,
   "id": "38c189e1-9e48-4123-8caf-fd160ee651fa",
   "metadata": {},
   "outputs": [
    {
     "data": {
      "image/png": "[encoded data removed]",
      "text/plain": [
       "<Figure size 432x288 with 1 Axes>"
      ]
     },
     "metadata": {
      "needs_background": "light"
     },
     "output_type": "display_data"
    }
   ],
   "source": [
    "labels, values = ['A', 'B', 'C'], [10, 20, 30]\n",
    "\n",
    "plt.title('Bar chart', fontdict={'fontname': 'DejaVu Sans', 'fontsize': 20})\n",
    "plt.xlabel('x-axis')\n",
    "plt.ylabel('y-axis')\n",
    "\n",
    "# plot bar chart\n",
    "plt.bar(labels, values)  # (x-axis, y-axis)\n",
    "plt.show()"
   ]
  },
  {
   "cell_type": "code",
   "execution_count": null,
   "id": "21b346db-9e04-4d36-a37d-739bdf55beec",
   "metadata": {},
   "outputs": [],
   "source": []
  }
 ],
 "metadata": {
  "kernelspec": {
   "display_name": "Python 3 (ipykernel)",
   "language": "python",
   "name": "python3"
  },
  "language_info": {
   "codemirror_mode": {
    "name": "ipython",
    "version": 3
   },
   "file_extension": ".py",
   "mimetype": "text/x-python",
   "name": "python",
   "nbconvert_exporter": "python",
   "pygments_lexer": "ipython3",
   "version": "3.9.2"
  }
 },
 "nbformat": 4,
 "nbformat_minor": 5
}
