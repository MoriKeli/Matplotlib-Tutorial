{
 "cells": [
  {
   "cell_type": "markdown",
   "id": "b280360f-dc5c-4465-83f1-c4452b042995",
   "metadata": {},
   "source": [
    "#### Styling each bar in a bar chart\n",
    "\n",
    "##### To do this we will use the set_hatch() function. "
   ]
  },
  {
   "cell_type": "code",
   "execution_count": 1,
   "id": "9a5f9dc2-0df1-4c5e-9e05-11998a11aa7e",
   "metadata": {},
   "outputs": [],
   "source": [
    "import matplotlib.pyplot as plt\n",
    "import numpy as np\n",
    "%matplotlib inline"
   ]
  },
  {
   "cell_type": "code",
   "execution_count": 35,
   "id": "31a55dfe-6454-4042-9ff5-63783f57470c",
   "metadata": {},
   "outputs": [
    {
     "data": {
      "image/png": "[encoded data removed]",
      "text/plain": [
       "<Figure size 432x288 with 1 Axes>"
      ]
     },
     "metadata": {
      "needs_background": "light"
     },
     "output_type": "display_data"
    }
   ],
   "source": [
    "labels, values = ['A', 'B', 'C'], [10, 20, 30]\n",
    "\n",
    "plt.title('Styling each bar', fontdict={'fontname': 'DejaVu Sans', 'fontsize': 20})\n",
    "plt.xlabel('x-axis')\n",
    "plt.ylabel('y-axis')\n",
    "\n",
    "# plot bar chart\n",
    "bar = plt.bar(labels, values)  # (x-axis, y-axis)\n",
    "\n",
    "# Styling each bar using set_hatch() func.\n",
    "# bar[0].set_hatch('/')  # index bar 1.\n",
    "# bar[1].set_hatch('*')  # index bar 2.\n",
    "# bar[2].set_hatch('x')  # index bar 3.\n",
    "\n",
    "# Alternatively, you can use a for loop.\n",
    "patterns = ['/', '*', 'x']\n",
    "\n",
    "for i, b in enumerate(bar):  # i stores index while b is the rectangle objects\n",
    "    b.set_hatch(patterns[i % len(patterns)]) # modulus prevents IndexError: list index out of range.\n",
    "\n",
    "# This for loop also works:\n",
    "# for b in bar:\n",
    "    # b.set_hatch(patterns.pop(0))  # pop the first item, second item and finally the last item in patterns.\n",
    "\n",
    "    \n",
    "plt.show()"
   ]
  }
 ],
 "metadata": {
  "kernelspec": {
   "display_name": "Python 3 (ipykernel)",
   "language": "python",
   "name": "python3"
  },
  "language_info": {
   "codemirror_mode": {
    "name": "ipython",
    "version": 3
   },
   "file_extension": ".py",
   "mimetype": "text/x-python",
   "name": "python",
   "nbconvert_exporter": "python",
   "pygments_lexer": "ipython3",
   "version": "3.9.2"
  }
 },
 "nbformat": 4,
 "nbformat_minor": 5
}
